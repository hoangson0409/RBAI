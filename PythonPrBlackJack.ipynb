{
 "cells": [
  {
   "cell_type": "code",
   "execution_count": 1,
   "metadata": {},
   "outputs": [],
   "source": [
    "import random\n",
    "\n",
    "# Boolean used to know if hand is in play\n",
    "playing = False\n",
    "\n",
    "chip_pool = 100 #default chiping is 100\n",
    "\n",
    "bet = 1\n",
    "\n",
    "restart_phrase = \"Press 'd' to deal the cards again, or press 'q' to quit\""
   ]
  },
  {
   "cell_type": "code",
   "execution_count": 2,
   "metadata": {},
   "outputs": [],
   "source": [
    "# Co Do Nhep Bich\n",
    "suits = ('C','D','N','B')\n",
    "\n",
    "# Possible card ranks\n",
    "ranking = ('A', '2', '3', '4', '5', '6', '7', '8', '9', '10', 'J', 'Q', 'K')\n",
    "\n",
    "# Point values dict \n",
    "card_val = {'A':1, '2':2, '3':3, '4':4, '5':5, '6':6, '7':7, '8':8, '9':9, '10':10, 'J':10, 'Q':10, 'K':10}"
   ]
  },
  {
   "cell_type": "code",
   "execution_count": 3,
   "metadata": {},
   "outputs": [],
   "source": [
    "class Card(object):\n",
    "    def __init__(self,suit,rank):\n",
    "        self.suit = suit\n",
    "        self.rank = rank\n",
    "    def __str__(self):\n",
    "        return self.suit + self.rank\n",
    "    def draw(self):\n",
    "        print (self.suit + self.rank)\n",
    "        "
   ]
  },
  {
   "cell_type": "code",
   "execution_count": 4,
   "metadata": {},
   "outputs": [],
   "source": [
    "class Hand(object):\n",
    "    def __init__(self):\n",
    "        self.cards = []\n",
    "        self.value = 0\n",
    "        self.ace = False\n",
    "    def __str__(self):\n",
    "        hand_comp == \" \"\n",
    "        hand_comp = [card.__str__() for cards in self.cards] \n",
    "    def card_add(self,card):\n",
    "        self.cards.append(card)\n",
    "        if card.rank == 'A':\n",
    "            self.ace == True\n",
    "        self.value += card_val[card.rank]\n",
    "    def calc_val(self):\n",
    "        if self.ace == True and self.value <12:\n",
    "            return self.value + 10\n",
    "        else:\n",
    "            return self.value\n",
    "    def draw(self,hidden):\n",
    "        if hidden == True and playing == True:\n",
    "            starting_card = 1\n",
    "        else: \n",
    "            starting_card = 0\n",
    "        for x in range (starting_card,len(self.cards)):\n",
    "            self.cards[x].draw()\n",
    "        \n",
    "        "
   ]
  },
  {
   "cell_type": "code",
   "execution_count": 5,
   "metadata": {},
   "outputs": [],
   "source": [
    "class Deck(object):\n",
    "    def __init__(self):\n",
    "        self.deck = []\n",
    "        for suit in suits:\n",
    "            for rank in ranking:\n",
    "                self.deck.append(Card(suit,rank))\n",
    "    def shuffle(self):\n",
    "        random.shuffle(self.deck)\n",
    "    def deal(self):\n",
    "        return self.deck.pop()"
   ]
  },
  {
   "cell_type": "code",
   "execution_count": 6,
   "metadata": {},
   "outputs": [],
   "source": [
    "def make_bet():\n",
    "    global bet,chip_pool\n",
    "    bet = int(raw_input(\"how much u want in bro, integers only  \"))\n",
    "        \n",
    "    if bet >= chip_pool:\n",
    "            result = \"Invalid bet\"\n",
    "            bet = int(raw_input(\"how much u want in bro, integers only  \"))\n",
    "    \n",
    "\n",
    "    \n",
    "    "
   ]
  },
  {
   "cell_type": "code",
   "execution_count": 7,
   "metadata": {},
   "outputs": [],
   "source": [
    "def deal_cards():\n",
    "    global result,playing,dealer_hand,player_hand,deck,chip_pool,bet\n",
    "    \n",
    "    deck = Deck()\n",
    "    deck.shuffle()\n",
    "    make_bet()\n",
    "    \n",
    "    player_hand = Hand()\n",
    "    dealer_hand = Hand()\n",
    "    \n",
    "    player_hand.card_add(deck.deal())\n",
    "    player_hand.card_add(deck.deal())\n",
    "    \n",
    "    dealer_hand.card_add(deck.deal())\n",
    "    dealer_hand.card_add(deck.deal())\n",
    "    \n",
    "    result = 'hit or stand? press h or s'\n",
    "    \n",
    "    if playing == True:\n",
    "        print 'Fold,sorry'\n",
    "    playing = True\n",
    "    game_step()\n",
    "    \n",
    "    "
   ]
  },
  {
   "cell_type": "code",
   "execution_count": 8,
   "metadata": {},
   "outputs": [],
   "source": [
    "def hit():\n",
    "    global result,playing,dealer_hand,player_hand,deck,chip_pool,bet\n",
    "    if playing:\n",
    "        if player_hand.value <= 21:\n",
    "            player_hand.card_add(deck.deal())\n",
    "        if player_hand.value > 21:\n",
    "            result = 'Busted' + restart_phrase\n",
    "            chip_pool -= bet\n",
    "            playing = False\n",
    "    else:\n",
    "        result = 'Sorry Cant Hit bro ' + restart_phrase\n",
    "    game_step()"
   ]
  },
  {
   "cell_type": "code",
   "execution_count": 9,
   "metadata": {},
   "outputs": [],
   "source": [
    "def stand():\n",
    "    global result,playing,dealer_hand,player_hand,deck,chip_pool,bet\n",
    "    if playing == False:\n",
    "        result = 'cant stand bro'\n",
    "    else:\n",
    "        while dealer_hand.calc_val() < 17:\n",
    "            dealer_hand.card_add(deck.deal())\n",
    "        if dealer_hand.value > 21:\n",
    "            result = 'Dealer Busted' + restart_phrase\n",
    "            chip_pool += bet\n",
    "            playing = False\n",
    "        elif player_hand.calc_val() > dealer_hand.calc_val():\n",
    "            result = 'U beat the dealer m8 Congratz' + restart_phrase\n",
    "            chip_pool += bet\n",
    "            playing = False\n",
    "        elif dealer_hand.value == player_hand.value :\n",
    "            result = 'Push, tied' + restart_phrase\n",
    "            playing = False\n",
    "        else: \n",
    "            result = 'Dealer Wins M8, u Suck ' + restart_phrase\n",
    "            chip_pool -= bet\n",
    "            playing = False\n",
    "            \n",
    "    game_step()\n",
    "    \n",
    "        \n",
    "    "
   ]
  },
  {
   "cell_type": "code",
   "execution_count": 10,
   "metadata": {},
   "outputs": [],
   "source": [
    "def game_step():\n",
    "    #for displaying player hand\n",
    "    print \" \"\n",
    "    print('player hand is: '),\n",
    "    player_hand.draw(hidden = False)\n",
    "    print 'Player hand total is  '+str(player_hand.calc_val())\n",
    "    \n",
    "    #displaying dealer hand \n",
    "    print('Dealer Hand is  '),\n",
    "    dealer_hand.draw(hidden=True)\n",
    "    \n",
    "    if playing == False:\n",
    "        print('Dealer Hand is  '),\n",
    "        dealer_hand.draw(hidden=False)\n",
    "        print \"That adds up to \" +str(dealer_hand.calc_val())\n",
    "        print \"Chip total  \" + str(chip_pool)\n",
    "    else: \n",
    "        print 'With another card hidden upside down'\n",
    "        \n",
    "    print result\n",
    "    player_input()"
   ]
  },
  {
   "cell_type": "code",
   "execution_count": 11,
   "metadata": {},
   "outputs": [],
   "source": [
    "def player_input():\n",
    "    \n",
    "    pin = raw_input().lower()\n",
    "    \n",
    "    if pin == 'h':\n",
    "        hit()\n",
    "    elif pin == 's':\n",
    "        stand()\n",
    "    elif pin == 'd':\n",
    "        deal_cards()\n",
    "    elif pin == 'q':\n",
    "        game_exit()\n",
    "    else:\n",
    "        print \"Invalid input, enter eiter h s d q  \"\n",
    "        player_input()"
   ]
  },
  {
   "cell_type": "code",
   "execution_count": 12,
   "metadata": {},
   "outputs": [],
   "source": [
    "def game_exit():\n",
    "    print 'Bye Folks'\n",
    "    exit() #stop running the kernel"
   ]
  },
  {
   "cell_type": "code",
   "execution_count": 13,
   "metadata": {},
   "outputs": [],
   "source": [
    "def intro():\n",
    "    print 'Chao mung ban choi BlackJack. Card is denoted by a letter for Co Do Nhep Bich and followed by a numb or letter'"
   ]
  },
  {
   "cell_type": "code",
   "execution_count": null,
   "metadata": {},
   "outputs": [
    {
     "name": "stdout",
     "output_type": "stream",
     "text": [
      "Chao mung ban choi BlackJack. Card is denoted by a letter for Co Do Nhep Bich and followed by a numb or letter\n",
      "how much u want in bro, integers only  10\n",
      " \n",
      "player hand is:  N2\n",
      "B5\n",
      "Player hand total is  7\n",
      "Dealer Hand is   D10\n",
      "With another card hidden upside down\n",
      "hit or stand? press h or s\n"
     ]
    }
   ],
   "source": [
    "\n",
    "deck = Deck()\n",
    "#Shuffle it\n",
    "deck.shuffle()\n",
    "# Create player and dealer hands\n",
    "player_hand = Hand()\n",
    "dealer_hand = Hand()\n",
    "#Print the intro\n",
    "intro()\n",
    "# Deal out the cards and start the game!h\n",
    "\n",
    "deal_cards()"
   ]
  }
 ],
 "metadata": {
  "kernelspec": {
   "display_name": "Python 2",
   "language": "python",
   "name": "python2"
  },
  "language_info": {
   "codemirror_mode": {
    "name": "ipython",
    "version": 2
   },
   "file_extension": ".py",
   "mimetype": "text/x-python",
   "name": "python",
   "nbconvert_exporter": "python",
   "pygments_lexer": "ipython2",
   "version": "2.7.15"
  }
 },
 "nbformat": 4,
 "nbformat_minor": 2
}
