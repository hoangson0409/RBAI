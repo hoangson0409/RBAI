{
 "cells": [
  {
   "cell_type": "code",
   "execution_count": 1,
   "metadata": {},
   "outputs": [],
   "source": [
    "import matplotlib.pyplot as plt\n",
    "import cv2\n",
    "import numpy as np\n",
    "from PIL import Image\n",
    "%matplotlib inline"
   ]
  },
  {
   "cell_type": "code",
   "execution_count": 2,
   "metadata": {},
   "outputs": [
    {
     "name": "stderr",
     "output_type": "stream",
     "text": [
      "Using TensorFlow backend.\n"
     ]
    }
   ],
   "source": [
    "from keras.models import Sequential"
   ]
  },
  {
   "cell_type": "code",
   "execution_count": 3,
   "metadata": {},
   "outputs": [],
   "source": [
    "from keras.layers import Activation,Dropout,Flatten,Conv2D,MaxPooling2D,Dense"
   ]
  },
  {
   "cell_type": "code",
   "execution_count": 46,
   "metadata": {},
   "outputs": [],
   "source": [
    "model = Sequential()\n",
    "\n",
    "model.add(Dense(512, activation='relu', input_shape=(64*64*3,)))\n",
    "model.add(Dropout(0.5))\n",
    "model.add(Dense(256, activation='relu'))\n",
    "model.add(Dropout(0.25))\n",
    "model.add(Dense(1, activation='sigmoid'))"
   ]
  },
  {
   "cell_type": "code",
   "execution_count": 47,
   "metadata": {},
   "outputs": [],
   "source": [
    "model.compile(loss ='binary_crossentropy',optimizer ='adam',metrics = ['accuracy'])"
   ]
  },
  {
   "cell_type": "code",
   "execution_count": 48,
   "metadata": {},
   "outputs": [
    {
     "name": "stdout",
     "output_type": "stream",
     "text": [
      "_________________________________________________________________\n",
      "Layer (type)                 Output Shape              Param #   \n",
      "=================================================================\n",
      "dense_4 (Dense)              (None, 512)               6291968   \n",
      "_________________________________________________________________\n",
      "dropout_3 (Dropout)          (None, 512)               0         \n",
      "_________________________________________________________________\n",
      "dense_5 (Dense)              (None, 256)               131328    \n",
      "_________________________________________________________________\n",
      "dropout_4 (Dropout)          (None, 256)               0         \n",
      "_________________________________________________________________\n",
      "dense_6 (Dense)              (None, 1)                 257       \n",
      "=================================================================\n",
      "Total params: 6,423,553\n",
      "Trainable params: 6,423,553\n",
      "Non-trainable params: 0\n",
      "_________________________________________________________________\n"
     ]
    }
   ],
   "source": [
    "model.summary()"
   ]
  },
  {
   "cell_type": "code",
   "execution_count": 49,
   "metadata": {},
   "outputs": [],
   "source": [
    "import os"
   ]
  },
  {
   "cell_type": "code",
   "execution_count": 50,
   "metadata": {},
   "outputs": [],
   "source": [
    "cat_test_path = \"F:/MachineLearning/rbPr/CATS_DOGS/CATS_DOGS/test/CAT\"\n",
    "dog_test_path = \"F:/MachineLearning/rbPr/CATS_DOGS/CATS_DOGS/test/DOG\"\n",
    "cat_train_path = \"F:/MachineLearning/rbPr/CATS_DOGS/CATS_DOGS/train/CAT\"\n",
    "dog_train_path = \"F:/MachineLearning/rbPr/CATS_DOGS/CATS_DOGS/train/DOG\""
   ]
  },
  {
   "cell_type": "code",
   "execution_count": 76,
   "metadata": {},
   "outputs": [],
   "source": [
    "batch_size = 16\n",
    "size_img = 64\n",
    "\n",
    "X_train = np.zeros((batch_size * 2, size_img * size_img * 3)) #tao ra batch x_train chua cat va dog\n",
    "# dog_test = np.zeros((16, 12288))\n",
    "# cat_train = np.zeros((16,12288))\n",
    "X_test = np.zeros((batch_size * 2 , size_img*size_img * 3))\n",
    "\n",
    "y_train = np.zeros((batch_size * 2,1)) #tao ra label \n",
    "y_test = np.zeros((batch_size * 2 , 1))"
   ]
  },
  {
   "cell_type": "code",
   "execution_count": 94,
   "metadata": {},
   "outputs": [
    {
     "name": "stdout",
     "output_type": "stream",
     "text": [
      "(12288,)\n",
      "(12288,)\n",
      "(12288,)\n",
      "(12288,)\n",
      "(12288,)\n",
      "(12288,)\n",
      "(12288,)\n",
      "(12288,)\n",
      "(12288,)\n",
      "(12288,)\n",
      "(12288,)\n",
      "(12288,)\n",
      "(12288,)\n",
      "(12288,)\n",
      "(12288,)\n",
      "(12288,)\n"
     ]
    }
   ],
   "source": [
    "\n",
    "cnt_1 = 0 \n",
    "\n",
    "for filename in os.listdir(cat_test_path):\n",
    "    if (cnt_1 >= 16): break #chi train vs 1 batch - doc het 16 anh stop\n",
    "    img = cv2.imread(cat_test_path +\"/\"+filename)\n",
    "    try:\n",
    "        img = cv2.resize(img,(64,64),interpolation = cv2.INTER_AREA)\n",
    "        \n",
    "    except:\n",
    "        print (\"fail\")\n",
    "    else:\n",
    "        img = img.reshape(64*64*3)\n",
    "        print (img.shape)\n",
    "        X_test[cnt_1] = img\n",
    "        y_test[cnt_1] = 0\n",
    "        cnt_1 += 1\n",
    "        continue"
   ]
  },
  {
   "cell_type": "code",
   "execution_count": 95,
   "metadata": {},
   "outputs": [
    {
     "name": "stdout",
     "output_type": "stream",
     "text": [
      "(12288,)\n",
      "(12288,)\n",
      "(12288,)\n",
      "(12288,)\n",
      "(12288,)\n",
      "(12288,)\n",
      "(12288,)\n",
      "(12288,)\n",
      "(12288,)\n",
      "(12288,)\n",
      "(12288,)\n",
      "(12288,)\n",
      "(12288,)\n",
      "(12288,)\n",
      "(12288,)\n",
      "(12288,)\n"
     ]
    }
   ],
   "source": [
    "for filename in os.listdir(dog_test_path):\n",
    "    if (cnt_1 >= 32): break \n",
    "    img = cv2.imread(dog_test_path +\"/\"+filename)\n",
    "    try:\n",
    "        img = cv2.resize(img,(64,64),interpolation = cv2.INTER_AREA)\n",
    "        \n",
    "    except:\n",
    "        print (\"fail\")\n",
    "    else:\n",
    "        img = img.reshape(64*64*3)\n",
    "        print (img.shape)\n",
    "        X_test[cnt_1] = img\n",
    "        y_test[cnt_1] = 1\n",
    "        cnt_1 += 1\n",
    "        continue"
   ]
  },
  {
   "cell_type": "code",
   "execution_count": 96,
   "metadata": {},
   "outputs": [
    {
     "name": "stdout",
     "output_type": "stream",
     "text": [
      "[[0.]\n",
      " [0.]\n",
      " [0.]\n",
      " [0.]\n",
      " [0.]\n",
      " [0.]\n",
      " [0.]\n",
      " [0.]\n",
      " [0.]\n",
      " [0.]\n",
      " [0.]\n",
      " [0.]\n",
      " [0.]\n",
      " [0.]\n",
      " [0.]\n",
      " [0.]\n",
      " [1.]\n",
      " [1.]\n",
      " [1.]\n",
      " [1.]\n",
      " [1.]\n",
      " [1.]\n",
      " [1.]\n",
      " [1.]\n",
      " [1.]\n",
      " [1.]\n",
      " [1.]\n",
      " [1.]\n",
      " [1.]\n",
      " [1.]\n",
      " [1.]\n",
      " [1.]]\n"
     ]
    }
   ],
   "source": [
    "print(y_test)"
   ]
  },
  {
   "cell_type": "code",
   "execution_count": 97,
   "metadata": {},
   "outputs": [
    {
     "name": "stdout",
     "output_type": "stream",
     "text": [
      "(12288,)\n",
      "(12288,)\n",
      "(12288,)\n",
      "(12288,)\n",
      "(12288,)\n",
      "(12288,)\n",
      "(12288,)\n",
      "(12288,)\n",
      "(12288,)\n",
      "(12288,)\n",
      "(12288,)\n",
      "(12288,)\n",
      "(12288,)\n",
      "(12288,)\n",
      "(12288,)\n",
      "(12288,)\n",
      "(32, 12288)\n"
     ]
    }
   ],
   "source": [
    "cnt = 0 \n",
    "\n",
    "for filename in os.listdir(cat_train_path):\n",
    "    if (cnt >= 16): break \n",
    "    img = cv2.imread(cat_train_path +\"/\"+filename)\n",
    "    try:\n",
    "        img = cv2.resize(img,(64,64),interpolation = cv2.INTER_AREA)\n",
    "        \n",
    "    except:\n",
    "        print (\"fail\")\n",
    "    else:\n",
    "        img = img.reshape(64*64*3)\n",
    "        print (img.shape)\n",
    "        X_train[cnt] = img\n",
    "        y_train[cnt] = 0\n",
    "        cnt += 1\n",
    "        continue\n",
    "        \n",
    "print(X_train.shape)"
   ]
  },
  {
   "cell_type": "code",
   "execution_count": 98,
   "metadata": {},
   "outputs": [
    {
     "name": "stdout",
     "output_type": "stream",
     "text": [
      "(12288,)\n",
      "(12288,)\n",
      "(12288,)\n",
      "(12288,)\n",
      "(12288,)\n",
      "(12288,)\n",
      "(12288,)\n",
      "(12288,)\n",
      "(12288,)\n",
      "(12288,)\n",
      "(12288,)\n",
      "(12288,)\n",
      "(12288,)\n",
      "(12288,)\n",
      "(12288,)\n",
      "(12288,)\n"
     ]
    }
   ],
   "source": [
    "for filename in os.listdir(dog_train_path):\n",
    "    if (cnt >= 32): break \n",
    "    img = cv2.imread(dog_train_path +\"/\"+filename)\n",
    "    try:\n",
    "        img = cv2.resize(img,(64,64),interpolation = cv2.INTER_AREA)\n",
    "        \n",
    "    except:\n",
    "        print (\"fail\")\n",
    "    else:\n",
    "        img = img.reshape(64*64*3)\n",
    "        print (img.shape)\n",
    "        X_train[cnt] = img\n",
    "        y_train[cnt] = 1\n",
    "        cnt += 1\n",
    "        continue\n",
    "        "
   ]
  },
  {
   "cell_type": "code",
   "execution_count": 100,
   "metadata": {},
   "outputs": [
    {
     "name": "stdout",
     "output_type": "stream",
     "text": [
      "(32, 12288)\n",
      "(32, 1)\n",
      "(32, 12288)\n"
     ]
    }
   ],
   "source": [
    "print (X_train.shape)\n",
    "print (y_train.shape)\n",
    "print (X_test.shape)"
   ]
  },
  {
   "cell_type": "code",
   "execution_count": 102,
   "metadata": {},
   "outputs": [
    {
     "name": "stdout",
     "output_type": "stream",
     "text": [
      "Train on 32 samples, validate on 32 samples\n",
      "Epoch 1/1\n",
      "32/32 [==============================] - 0s 12ms/step - loss: 9.1569 - acc: 0.4062 - val_loss: 7.4730 - val_acc: 0.5312\n"
     ]
    },
    {
     "data": {
      "text/plain": [
       "<keras.callbacks.History at 0x268ab549470>"
      ]
     },
     "execution_count": 102,
     "metadata": {},
     "output_type": "execute_result"
    }
   ],
   "source": [
    "model.fit(X_train,y_train,batch_size=batch_size,epochs = 1,validation_data=(X_test, y_test))"
   ]
  }
 ],
 "metadata": {
  "kernelspec": {
   "display_name": "Python 3",
   "language": "python",
   "name": "python3"
  },
  "language_info": {
   "codemirror_mode": {
    "name": "ipython",
    "version": 3
   },
   "file_extension": ".py",
   "mimetype": "text/x-python",
   "name": "python",
   "nbconvert_exporter": "python",
   "pygments_lexer": "ipython3",
   "version": "3.6.8"
  }
 },
 "nbformat": 4,
 "nbformat_minor": 2
}
