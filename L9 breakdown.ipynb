{
 "cells": [
  {
   "cell_type": "code",
   "execution_count": 1,
   "metadata": {},
   "outputs": [],
   "source": [
    "from IPython.display import Image\n",
    "from skimage.feature import corner_peaks\n",
    "\n",
    "import matplotlib.pyplot as plt\n",
    "import os\n",
    "import cv2\n",
    "import numpy as np"
   ]
  },
  {
   "cell_type": "code",
   "execution_count": 2,
   "metadata": {},
   "outputs": [],
   "source": [
    "from skimage import filters\n",
    "from skimage.util.shape import view_as_blocks\n",
    "from scipy.spatial.distance import cdist\n",
    "from scipy.ndimage.filters import convolve"
   ]
  },
  {
   "cell_type": "code",
   "execution_count": 6,
   "metadata": {},
   "outputs": [
    {
     "data": {
      "text/plain": [
       "<matplotlib.image.AxesImage at 0x161d3add518>"
      ]
     },
     "execution_count": 6,
     "metadata": {},
     "output_type": "execute_result"
    },
    {
     "data": {
      "image/png": "[encoded data removed]",
      "text/plain": [
       "<Figure size 432x288 with 1 Axes>"
      ]
     },
     "metadata": {
      "needs_background": "light"
     },
     "output_type": "display_data"
    }
   ],
   "source": [
    "img = cv2.imread('chessboard.jpg',cv2.IMREAD_GRAYSCALE)\n",
    "plt.imshow(img,cmap='gray')"
   ]
  },
  {
   "cell_type": "code",
   "execution_count": 27,
   "metadata": {},
   "outputs": [
    {
     "data": {
      "text/plain": [
       "(930, 1279)"
      ]
     },
     "execution_count": 27,
     "metadata": {},
     "output_type": "execute_result"
    }
   ],
   "source": [
    "img.shape"
   ]
  },
  {
   "cell_type": "code",
   "execution_count": 16,
   "metadata": {},
   "outputs": [
    {
     "data": {
      "text/plain": [
       "<matplotlib.image.AxesImage at 0x161d3db2f28>"
      ]
     },
     "execution_count": 16,
     "metadata": {},
     "output_type": "execute_result"
    },
    {
     "data": {
      "image/png": "[encoded data removed]",
      "text/plain": [
       "<Figure size 432x288 with 1 Axes>"
      ]
     },
     "metadata": {
      "needs_background": "light"
     },
     "output_type": "display_data"
    }
   ],
   "source": [
    "kernel = np.ones((3,3))\n",
    "dx = filters.sobel_v(img)\n",
    "dy = filters.sobel_h(img)\n",
    "\n",
    "A = convolve(dx**2,kernel)\n",
    "B = convolve(dx*dy,kernel)\n",
    "plt.imshow(B,cmap='gray')"
   ]
  },
  {
   "cell_type": "code",
   "execution_count": 24,
   "metadata": {},
   "outputs": [
    {
     "name": "stdout",
     "output_type": "stream",
     "text": [
      "[[ 0.0000000e+00  0.0000000e+00  0.0000000e+00 ...  0.0000000e+00\n",
      "   0.0000000e+00  0.0000000e+00]\n",
      " [ 0.0000000e+00  0.0000000e+00  0.0000000e+00 ...  0.0000000e+00\n",
      "   0.0000000e+00  0.0000000e+00]\n",
      " [ 0.0000000e+00  0.0000000e+00  0.0000000e+00 ...  0.0000000e+00\n",
      "   0.0000000e+00  0.0000000e+00]\n",
      " ...\n",
      " [ 0.0000000e+00  0.0000000e+00  0.0000000e+00 ...  4.2893157e-07\n",
      "   2.9488136e-09  1.1636762e-10]\n",
      " [ 0.0000000e+00  0.0000000e+00  0.0000000e+00 ... -3.0907984e-08\n",
      "   5.5413185e-10  1.7678711e-10]\n",
      " [ 0.0000000e+00  0.0000000e+00  0.0000000e+00 ... -6.9057392e-11\n",
      "   6.8456959e-12  1.1076913e-11]]\n"
     ]
    },
    {
     "data": {
      "image/png": "[encoded data removed]",
      "text/plain": [
       "<Figure size 432x288 with 1 Axes>"
      ]
     },
     "metadata": {
      "needs_background": "light"
     },
     "output_type": "display_data"
    }
   ],
   "source": [
    "dst = cv2.cornerHarris(img,2,3,0.04)\n",
    "plt.imshow(dst,cmap='gray')\n",
    "dst1 = cv2.dilate(dst,None)\n",
    "plt.imshow(dst1,cmap='gray')\n",
    "\n"
   ]
  },
  {
   "cell_type": "code",
   "execution_count": 43,
   "metadata": {},
   "outputs": [
    {
     "name": "stdout",
     "output_type": "stream",
     "text": [
      "(930, 1279)\n",
      "[[False False False ... False False False]\n",
      " [False False False ... False False False]\n",
      " [False False False ... False False False]\n",
      " ...\n",
      " [False False False ... False False False]\n",
      " [False False False ... False False False]\n",
      " [False False False ... False False False]]\n",
      "[[255 255 255 ... 255 255 255]\n",
      " [255 255 255 ... 255 255 255]\n",
      " [255 255 255 ... 255 255 255]\n",
      " ...\n",
      " [255 255 255 ... 255 254 252]\n",
      " [255 255 255 ... 255 255 255]\n",
      " [255 255 255 ... 255 255 255]]\n",
      "(930, 1279)\n",
      "[ 39  12  23 167  22  11  21 161 116  19  39 218 120  23  91 244  62   5\n",
      "  80 244   4   0   1 178 255 160   0   0   2 168 255  94   0   0  17 225\n",
      " 100   0   0   0  59 244  45   0  44 245 255 253 255 255 254 255 255 254\n",
      " 255 247 255  13   0   3 106 172 172  97   0   0   4 100 179 154 163  59\n",
      "   5   2  22 131 176 164  70   6   0  33 161 168 151  36   0  33 156 167\n",
      " 225 154 158  91  13   0  17 105 174  95   9   2   4 124 168  52  11   0\n",
      "   8 119 162 144  19  11   0   8  33 154 162 143  24   8   0   7 106 255\n",
      " 255 254 154   2   0   2 164 254 246 254 163   0   0  21 232 255 255  96\n",
      "   3   0  20 224 255 245  50   1  55 251 254 246  60   2   0 117 255 255\n",
      " 255 155 243 253 244 248 255 249 255 255 255 252 252 240 255 241 181  90\n",
      "   4   1  11 114 180 184 181  98   8   2  18 151 195 185  75  11   0   7\n",
      " 150 190 175  28   7  40 173 181 173  37   5   9 104  37   1  17  90 150\n",
      "  75   3   9  18  87 147  41  10   0   3 117 156  45  12   0  12  18 142\n",
      " 153 137  13   4   2   9  14 137 157 140 196 255  10   0   0 170 255 255\n",
      " 152   0   2   0 163 255 247 103  13   0  22 213 250 252 108   6   0  61\n",
      " 243 255 255  57   0  53 242 255 255 244 252 254 163 240 252 255  94 255\n",
      " 255 105 255 253 255 255 254 255 254 255 255   0   5 127 207 199 200 113\n",
      "   5   0   8 119 207 196 199  66   5   0  25 171 203 197  85   5   0   6\n",
      "  47 189 195 181  49   0  44 185 194 127 123  62  13   2  12  72 133  74\n",
      "  13   8  14   5 102 131  29  12   0   0  92 134 115  14  24   4   4  17\n",
      " 127 124  16  24   3 109 255 254 255 255 152   6   0   4 168 255 159   1\n",
      "   0  29 226 254 255  95   8   0  12 215 255 250  50   0  57 248 255 250\n",
      "  57   0   5 125 255 150 253 255 255 156 244 249  94 248 253  33 255 255\n",
      "  43 255 155 253 253 255 164 255 254 255 237 255 237 144 149  74  10   0\n",
      "   5  87 152 149  78   9   0  12 120 152 151  51  14   1   9 117 146 135\n",
      "  19  18  14 152 148 140  25  24  14 101  26   0   6 114 183 102  16   9\n",
      "   6 111 181  65   6   0   9 141 180  73  12   0  14  39 174 182 173  23\n",
      "   8   0   9  33 169 180 219 255  13   0   2 176 248 251 247 157   1   0\n",
      "   0 172 246 252 250  96   0   8  31 221 255 250 101   0   3   0  59 244\n",
      " 255 248  54   0  55 242 255 253 255 254 255 255 254 255 247 255 251 255\n",
      " 155 252 255 255 255 252 247 255  22   0   4 108 174 166  89  16   6   5\n",
      "  97 176 179 164  56   7   0   2 125 162 166  58   8   0  15  26 155 168\n",
      " 160  17   8  20 149 170 156 153  79  10   0   3  94 159  88   6   0  10\n",
      " 140 165  60  20   8  10 138 162 152  19  10   2  14  23 167 162 155  20\n",
      "   9   5 104 255 255 254 158  10   0   2 173 255 254 169   9   0  16 224\n",
      " 255 250 101   0   0  14 221 255 239  49   0  50 247 253 248  57   0   5\n",
      " 117 255 145 255 255 255 152 247 252 246 242 255 249 252 255 252 255 255\n",
      " 255 254 251 251 185  95  10   3   3 109 183 187 185 103   4   3  18 154\n",
      " 184 180  67   2   1  17 152 182 173  25  12  31 182 184 172  29  12  16\n",
      " 105  26   0  10  90 140  72   7   4  13  80 141  43   5   0   9 124 147\n",
      "  44   6   1  11  17 134 147 146  12   9   0  12  11 133 150 193 255  13\n",
      "   0   0 188 255 255 160   6   0   0 174 255 255 103   0   3  25 219 248\n",
      " 255 106   0   5   0  72 250 252 246  56   0  59 248 255 255 255 253 255\n",
      " 155 255 254 255  91 255 254 104 255 247 255  37   2  15 176   7   1   9\n",
      " 157  97   4   5  35 206 102   7   2   0  67 240  62   0  63 236 189 188\n",
      " 173 239 185 199 185 241 214 190 195 255 218 192 207 255 210 187 206 255]\n"
     ]
    }
   ],
   "source": [
    "v = dst > 0.01*dst.max()\n",
    "print (v.shape)\n",
    "print(v)\n",
    "print(img)\n",
    "print(img.shape)\n",
    "print(img[dst>0.01*dst.max()])\n",
    "\n"
   ]
  },
  {
   "cell_type": "code",
   "execution_count": null,
   "metadata": {},
   "outputs": [],
   "source": [
    "def harris_detect(img_path,blockSize,ksize,k,threshold):\n",
    "    img = cv2.imread(img_path,cv2.IMREAD_GRAYSCALE)\n",
    "    img32 = np.float32(img)\n",
    "    crn = cv2.cornerHarris(img32,blockSize,ksize,k)\n",
    "    \n",
    "    img[]\n",
    "    "
   ]
  }
 ],
 "metadata": {
  "kernelspec": {
   "display_name": "Python 3",
   "language": "python",
   "name": "python3"
  },
  "language_info": {
   "codemirror_mode": {
    "name": "ipython",
    "version": 3
   },
   "file_extension": ".py",
   "mimetype": "text/x-python",
   "name": "python",
   "nbconvert_exporter": "python",
   "pygments_lexer": "ipython3",
   "version": "3.6.8"
  }
 },
 "nbformat": 4,
 "nbformat_minor": 2
}
