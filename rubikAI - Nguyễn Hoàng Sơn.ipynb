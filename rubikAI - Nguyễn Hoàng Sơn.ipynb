{
 "cells": [
  {
   "cell_type": "code",
   "execution_count": null,
   "metadata": {},
   "outputs": [],
   "source": [
    "Name: Nguyen Hoang Son"
   ]
  },
  {
   "cell_type": "markdown",
   "metadata": {},
   "source": [
    "BAI 2"
   ]
  },
  {
   "cell_type": "code",
   "execution_count": 1,
   "metadata": {},
   "outputs": [
    {
     "data": {
      "text/plain": [
       "1"
      ]
     },
     "execution_count": 1,
     "metadata": {},
     "output_type": "execute_result"
    }
   ],
   "source": [
    "chem_weight = {'H':1, 'C':12, 'O':16, 'N':14, 'K':39}\n",
    "chem_weight['H']\n"
   ]
  },
  {
   "cell_type": "code",
   "execution_count": 3,
   "metadata": {},
   "outputs": [],
   "source": [
    "def weightcal(n,numb):\n",
    "    while n not in chem_weight.keys():\n",
    "        print 'Must be some atoms in list'\n",
    "        break\n",
    "    else:\n",
    "        return chem_weight[n] * numb\n",
    "    "
   ]
  },
  {
   "cell_type": "code",
   "execution_count": 16,
   "metadata": {},
   "outputs": [
    {
     "data": {
      "text/plain": [
       "2"
      ]
     },
     "execution_count": 16,
     "metadata": {},
     "output_type": "execute_result"
    }
   ],
   "source": [
    "weightcal('H',2)\n"
   ]
  },
  {
   "cell_type": "code",
   "execution_count": 4,
   "metadata": {},
   "outputs": [
    {
     "data": {
      "text/plain": [
       "320"
      ]
     },
     "execution_count": 4,
     "metadata": {},
     "output_type": "execute_result"
    }
   ],
   "source": [
    "weightcal('O',20)"
   ]
  },
  {
   "cell_type": "markdown",
   "metadata": {},
   "source": [
    "I really dont know how :("
   ]
  },
  {
   "cell_type": "markdown",
   "metadata": {},
   "source": [
    "BAI 1\n"
   ]
  },
  {
   "cell_type": "code",
   "execution_count": 41,
   "metadata": {},
   "outputs": [],
   "source": [
    "def mergearrays(arr1, arr2): \n",
    "    n1 = len(arr1)\n",
    "    n2 = len(arr2)\n",
    "  \n",
    "    arr3 = [None] * (n1 + n2) \n",
    "    i = 0\n",
    "    j = 0\n",
    "    k = 0\n",
    "   \n",
    "  \n",
    "    \n",
    "    while i < n1 and j < n2: \n",
    "      \n",
    "        \n",
    "        if arr1[i] < arr2[j]: \n",
    "            arr3[k] = arr1[i] \n",
    "            k += 1\n",
    "            i += 1\n",
    "        else: \n",
    "            arr3[k] = arr2[j] \n",
    "            k += 1\n",
    "            j += 1\n",
    "      \n",
    "  \n",
    "     \n",
    "    while i < n1: \n",
    "        arr3[k] = arr1[i]; \n",
    "        k += 1\n",
    "        i += 1\n",
    "  \n",
    "    while j < n2: \n",
    "        arr3[k] = arr2[j]; \n",
    "        k += 1\n",
    "        j += 1\n",
    "    \n",
    "    for i in range(n1 + n2): \n",
    "        print str(arr3[i])\n",
    "        \n",
    "\n",
    "        "
   ]
  },
  {
   "cell_type": "code",
   "execution_count": 42,
   "metadata": {},
   "outputs": [
    {
     "name": "stdout",
     "output_type": "stream",
     "text": [
      "1\n",
      "3\n",
      "5\n",
      "6\n",
      "8\n",
      "9\n",
      "10\n",
      "11\n"
     ]
    }
   ],
   "source": [
    "arr1 = [1, 3, 6, 9] \n",
    "\n",
    "arr2 = [5, 8, 10, 11] \n",
    " \n",
    "mergearrays(arr1, arr2)"
   ]
  },
  {
   "cell_type": "code",
   "execution_count": 29,
   "metadata": {},
   "outputs": [
    {
     "data": {
      "text/plain": [
       "[1, 2]"
      ]
     },
     "execution_count": 29,
     "metadata": {},
     "output_type": "execute_result"
    }
   ],
   "source": [
    "l1 = [1,2]\n",
    "l1.extend([0])\n",
    "l1.sort()\n",
    "l1\n",
    "l2 = []\n",
    "l2.extend([1,2])\n",
    "l2"
   ]
  },
  {
   "cell_type": "code",
   "execution_count": 31,
   "metadata": {},
   "outputs": [
    {
     "name": "stdout",
     "output_type": "stream",
     "text": [
      "None\n"
     ]
    }
   ],
   "source": [
    "def addarray(arr1):\n",
    "    arr2= []\n",
    "    arr2.extend([arr1])\n",
    "    print arr2.sort()\n",
    "\n",
    "addarray([5,1])"
   ]
  }
 ],
 "metadata": {
  "kernelspec": {
   "display_name": "Python 2",
   "language": "python",
   "name": "python2"
  },
  "language_info": {
   "codemirror_mode": {
    "name": "ipython",
    "version": 2
   },
   "file_extension": ".py",
   "mimetype": "text/x-python",
   "name": "python",
   "nbconvert_exporter": "python",
   "pygments_lexer": "ipython2",
   "version": "2.7.15"
  }
 },
 "nbformat": 4,
 "nbformat_minor": 2
}
